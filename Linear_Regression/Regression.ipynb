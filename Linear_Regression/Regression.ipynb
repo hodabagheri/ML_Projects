{
 "cells": [
  {
   "cell_type": "code",
   "execution_count": 1,
   "metadata": {},
   "outputs": [],
   "source": [
    "%matplotlib inline\n",
    "import numpy as np\n",
    "import pandas as pd\n",
    "import matplotlib.pyplot as plt"
   ]
  },
  {
   "cell_type": "markdown",
   "metadata": {},
   "source": [
    "### Import the advertising dataset"
   ]
  },
  {
   "cell_type": "code",
   "execution_count": 2,
   "metadata": {},
   "outputs": [],
   "source": [
    "Data=pd.read_csv('Advertising.csv')\n",
    "Xdata=Data[['TV','Radio','Newspaper']]"
   ]
  },
  {
   "cell_type": "code",
   "execution_count": 3,
   "metadata": {},
   "outputs": [],
   "source": [
    "mean=Xdata.mean(axis=0)\n",
    "var=Xdata.var(axis=0)\n",
    "data=(Xdata-mean)/var #Normalized data\n",
    "data['Intercept']=1 #Adding an intercept"
   ]
  },
  {
   "cell_type": "markdown",
   "metadata": {},
   "source": [
    "### Defininig Functions\n",
    "Reg, Loss, R2, and Der are functions to calculate regression, loss, R-2 score, and derivative of loss function with respect to the weights."
   ]
  },
  {
   "cell_type": "code",
   "execution_count": 4,
   "metadata": {},
   "outputs": [],
   "source": [
    "def Reg(X,W):\n",
    "    \"\"\"\n",
    "    Regressor function. Input is Weights and input data. Output is a linear combination of inputs\n",
    "    \"\"\"\n",
    "    y=X@W\n",
    "    return y"
   ]
  },
  {
   "cell_type": "code",
   "execution_count": 5,
   "metadata": {},
   "outputs": [],
   "source": [
    "def Loss(Y,y):\n",
    "    \"\"\"\n",
    "    Least squares approach: Loss Function is the sum of square residuals. \n",
    "    \"\"\"\n",
    "    return np.sum((y-Y)**2)"
   ]
  },
  {
   "cell_type": "code",
   "execution_count": 6,
   "metadata": {},
   "outputs": [],
   "source": [
    "def R2(X,W,Y):\n",
    "    \"\"\"\n",
    "    Calculates R2-score\n",
    "    \"\"\"\n",
    "    y=Reg(X,W)\n",
    "    RSS=Loss(Y,y)\n",
    "    TSS=Loss(Y,np.mean(Y))\n",
    "    return 1-(RSS/TSS)"
   ]
  },
  {
   "cell_type": "code",
   "execution_count": 7,
   "metadata": {},
   "outputs": [],
   "source": [
    "def sigma(X,W,Y):\n",
    "    \"\"\"\"\n",
    "    Calculates standard error\n",
    "    \"\"\"\n",
    "    y=Reg(X,W)\n",
    "    RSS=Loss(Y,y)\n",
    "    return np.sqrt(RSS/(X.shape[0]-1))\n",
    "    "
   ]
  },
  {
   "cell_type": "markdown",
   "metadata": {},
   "source": [
    "covariance matrix $Σ=s^2(X^TX)^−1$ where s^2 is the residual variance"
   ]
  },
  {
   "cell_type": "code",
   "execution_count": 8,
   "metadata": {},
   "outputs": [],
   "source": [
    "def cov_mat(X,sigma):\n",
    "    return sigma*np.linalg.inv(X.T@X)"
   ]
  },
  {
   "cell_type": "code",
   "execution_count": 9,
   "metadata": {},
   "outputs": [],
   "source": [
    "def F_statistic(X,W,Y):\n",
    "    \"\"\"\n",
    "    Calculates F-statistics\n",
    "    \"\"\"\n",
    "    y=Reg(X,W)\n",
    "    RSS=Loss(Y,y)\n",
    "    TSS=Loss(Y,np.mean(Y))\n",
    "    n=X.shape[0]\n",
    "    p=X.shape[1]\n",
    "    return (TSS-RSS)*(n-p-1)/(p*RSS)"
   ]
  },
  {
   "cell_type": "code",
   "execution_count": 10,
   "metadata": {},
   "outputs": [],
   "source": [
    "def Der(Y,y,X):\n",
    "    \"\"\"\n",
    "    Derivative of loss function with respect to the weights.\n",
    "    \"\"\"\n",
    "    return X.T@(y-Y)"
   ]
  },
  {
   "cell_type": "markdown",
   "metadata": {},
   "source": [
    "To compute the standard errors\n",
    "associated with β0 and β1, we use the following formulas:\n",
    "\n",
    "$SE(β0)^2= σ^2[1/n+\\overline x^2/\\Sigma(x_i-\\overline x)^2]$\n",
    "\n",
    "$SE(β1)^2= σ^2[1/\\Sigma(x_i-\\overline x)^2]$\n"
   ]
  },
  {
   "cell_type": "markdown",
   "metadata": {},
   "source": [
    "Test the functions"
   ]
  },
  {
   "cell_type": "code",
   "execution_count": 12,
   "metadata": {},
   "outputs": [
    {
     "data": {
      "text/plain": [
       "(4, 2, 2)"
      ]
     },
     "execution_count": 12,
     "metadata": {},
     "output_type": "execute_result"
    }
   ],
   "source": [
    "a= np.array([[[1,2], [4,5]], [[1,2], [2,2]], [[1,2], [2,3]], [[1,2], [5,5]]])\n",
    "w=np.array([[1, 2],[2,2]])\n",
    "y=Reg(a,w)\n",
    "y.shape"
   ]
  },
  {
   "cell_type": "code",
   "execution_count": 134,
   "metadata": {},
   "outputs": [
    {
     "name": "stdout",
     "output_type": "stream",
     "text": [
      "(3, 2) (2, 1) (3, 1)\n"
     ]
    },
    {
     "data": {
      "text/plain": [
       "(2, 1)"
      ]
     },
     "execution_count": 134,
     "metadata": {},
     "output_type": "execute_result"
    }
   ],
   "source": [
    "a=np.array([[1,2],[3,4],[5,6]])\n",
    "w=np.array([[7],[8]])\n",
    "b=np.array([[1],[1],[1]])\n",
    "print(a.shape,w.shape,b.shape)\n",
    "y=Reg(a,w)\n",
    "y.shape\n",
    "Y=[[3],[4],[5]]\n",
    "Loss(Y,y)\n",
    "Der(Y,y,a).shape"
   ]
  },
  {
   "cell_type": "markdown",
   "metadata": {},
   "source": [
    "### Run a simple linear regression on sales and newspaper advertising."
   ]
  },
  {
   "cell_type": "code",
   "execution_count": 135,
   "metadata": {},
   "outputs": [
    {
     "name": "stderr",
     "output_type": "stream",
     "text": [
      "C:\\Users\\acer\\Anaconda3\\lib\\site-packages\\ipykernel_launcher.py:1: FutureWarning: Method .as_matrix will be removed in a future version. Use .values instead.\n",
      "  \"\"\"Entry point for launching an IPython kernel.\n",
      "C:\\Users\\acer\\Anaconda3\\lib\\site-packages\\ipykernel_launcher.py:2: FutureWarning: Method .as_matrix will be removed in a future version. Use .values instead.\n",
      "  \n"
     ]
    }
   ],
   "source": [
    "X=data[['Intercept','Newspaper']].as_matrix()\n",
    "Y=Data[['Sales']].as_matrix()\n",
    "Y.mean\n",
    "W=np.random.rand(X.shape[1],1)\n",
    "max_iteration=500000\n",
    "alpha=0.001\n",
    "Cost=[]\n",
    "\n",
    "for i in range(max_iteration):\n",
    "    y=Reg(X,W)\n",
    "    Cost.append(Loss(Y,y))\n",
    "    dW=Der(Y,y,X)\n",
    "    W=W-alpha*dW"
   ]
  },
  {
   "cell_type": "code",
   "execution_count": 136,
   "metadata": {},
   "outputs": [
    {
     "data": {
      "text/plain": [
       "[<matplotlib.lines.Line2D at 0x2b3934807b8>]"
      ]
     },
     "execution_count": 136,
     "metadata": {},
     "output_type": "execute_result"
    },
    {
     "data": {
      "image/png": "[encoded data removed]",
      "text/plain": [
       "<Figure size 432x288 with 1 Axes>"
      ]
     },
     "metadata": {
      "needs_background": "light"
     },
     "output_type": "display_data"
    }
   ],
   "source": [
    "Cost_Newspaper=Cost\n",
    "W_Newspaper=W\n",
    "plt.plot(Cost_Newspaper)"
   ]
  },
  {
   "cell_type": "markdown",
   "metadata": {},
   "source": [
    "### Plot Sales vs Newspaper and overlay the predicted relationship."
   ]
  },
  {
   "cell_type": "code",
   "execution_count": 137,
   "metadata": {},
   "outputs": [
    {
     "data": {
      "text/plain": [
       "[<matplotlib.lines.Line2D at 0x2b390f397b8>]"
      ]
     },
     "execution_count": 137,
     "metadata": {},
     "output_type": "execute_result"
    },
    {
     "data": {
      "image/png": "[encoded data removed]",
      "text/plain": [
       "<Figure size 432x288 with 1 Axes>"
      ]
     },
     "metadata": {
      "needs_background": "light"
     },
     "output_type": "display_data"
    }
   ],
   "source": [
    "plt.scatter(X[:,1], Y)\n",
    "plt.plot(X[:,1], Reg(X,W_Newspaper), 'r--')"
   ]
  },
  {
   "cell_type": "markdown",
   "metadata": {},
   "source": [
    "### Is there a significant relationship? What do the p-values represent statistically?"
   ]
  },
  {
   "cell_type": "markdown",
   "metadata": {},
   "source": [
    "Large F-statistic suggests that at least one of the advertising media must\n",
    "be related to sales. When n is large, an F-statistic that is just a\n",
    "little larger than 1 might still provide evidence against null\n",
    "hypothesis (H0 : β1 = β2 = · · · = βp = 0). In contrast,\n",
    "a larger F-statistic is needed to reject H0 if n is small."
   ]
  },
  {
   "cell_type": "code",
   "execution_count": 138,
   "metadata": {},
   "outputs": [
    {
     "data": {
      "text/plain": [
       "5.416156358252168"
      ]
     },
     "execution_count": 138,
     "metadata": {},
     "output_type": "execute_result"
    }
   ],
   "source": [
    "F_stat=F_statistic(X,W,Y)\n",
    "F_stat"
   ]
  },
  {
   "cell_type": "markdown",
   "metadata": {},
   "source": [
    "We find F_statistic of 5.41 for the normalized data showing that there is a relationship between newspaper adds and sales"
   ]
  },
  {
   "cell_type": "code",
   "execution_count": 139,
   "metadata": {},
   "outputs": [
    {
     "data": {
      "text/plain": [
       "0.05212044544430516"
      ]
     },
     "execution_count": 139,
     "metadata": {},
     "output_type": "execute_result"
    }
   ],
   "source": [
    "R2(X,W,Y)"
   ]
  },
  {
   "cell_type": "markdown",
   "metadata": {},
   "source": [
    "R-square value tells you how much variation is explained by your model. So 0.05 R-square means that your model explains 5% of variation within the data. The greater R-square the better the model. "
   ]
  },
  {
   "cell_type": "markdown",
   "metadata": {},
   "source": [
    "The p-value for each term tests the null hypothesis that the coefficient is equal to zero (no effect). A low p-value (< 0.05) indicates that you can reject the null hypothesis. ... Typically, you use the coefficient p-values to determine which terms to keep in the regression model. So if the p-value is less than the significance level (usually 0.05) then your model fits the data well.\n",
    "Thus you have four scenarios:\n",
    "1) low R-square and low p-value (p-value <= 0.05)\n",
    "2) low R-square and high p-value (p-value > 0.05)\n",
    "3) high R-square and low p-value\n",
    "4) high R-square and high p-value\n",
    "Interpretation:\n",
    "1) means that your model doesn't explain much of variation of the data but it is significant (better than not having a model)\n",
    "2) means that your model doesn't explain much of variation of the data and it is not significant (worst scenario)\n",
    "3) means your model explains a lot of variation within the data and is significant (best scenario)\n",
    "4) means that your model explains a lot of variation within the data but is not significant (model is worthless)"
   ]
  },
  {
   "cell_type": "markdown",
   "metadata": {},
   "source": [
    "### Calculating the p-values"
   ]
  },
  {
   "cell_type": "code",
   "execution_count": 140,
   "metadata": {},
   "outputs": [],
   "source": [
    "import statsmodels.api as sm\n",
    "mod = sm.OLS(Y,X)\n",
    "fii = mod.fit()\n",
    "p_values = fii.summary2().tables[1]['P>|t|']"
   ]
  },
  {
   "cell_type": "code",
   "execution_count": 141,
   "metadata": {},
   "outputs": [
    {
     "data": {
      "text/plain": [
       "const    9.363543e-95\n",
       "x1       1.148196e-03\n",
       "Name: P>|t|, dtype: float64"
      ]
     },
     "execution_count": 141,
     "metadata": {},
     "output_type": "execute_result"
    }
   ],
   "source": [
    "p_values"
   ]
  },
  {
   "cell_type": "code",
   "execution_count": 152,
   "metadata": {},
   "outputs": [
    {
     "name": "stdout",
     "output_type": "stream",
     "text": [
      "0.025398345374310436 is the error of coefficient 14.022499999999997\n",
      "12.107182581120027 is the error of coefficient 25.941391959794775\n"
     ]
    }
   ],
   "source": [
    "si=sigma(X,W,Y)\n",
    "E=cov_mat(X,si)\n",
    "for i in range(E.shape[0]):\n",
    "    print(E[i,i], 'is the error of coefficient', W[i][0])"
   ]
  },
  {
   "cell_type": "markdown",
   "metadata": {},
   "source": [
    "### Run a multiple linear regression on sales and all three advertising media."
   ]
  },
  {
   "cell_type": "code",
   "execution_count": 153,
   "metadata": {},
   "outputs": [
    {
     "name": "stderr",
     "output_type": "stream",
     "text": [
      "C:\\Users\\acer\\Anaconda3\\lib\\site-packages\\ipykernel_launcher.py:1: FutureWarning: Method .as_matrix will be removed in a future version. Use .values instead.\n",
      "  \"\"\"Entry point for launching an IPython kernel.\n",
      "C:\\Users\\acer\\Anaconda3\\lib\\site-packages\\ipykernel_launcher.py:2: FutureWarning: Method .as_matrix will be removed in a future version. Use .values instead.\n",
      "  \n"
     ]
    }
   ],
   "source": [
    "X=data[['Intercept','Newspaper','TV','Radio']].as_matrix()\n",
    "Y=Data[['Sales']].as_matrix()\n",
    "Y_mean=np.mean(Y)\n",
    "W=np.random.rand(X.shape[1],1)\n",
    "max_iteration=500000\n",
    "alpha=0.001\n",
    "Cost=[]\n"
   ]
  },
  {
   "cell_type": "code",
   "execution_count": 154,
   "metadata": {},
   "outputs": [],
   "source": [
    "for i in range(max_iteration):\n",
    "    y=Reg(X,W)\n",
    "    Cost.append(Loss(Y,y))\n",
    "    dW=Der(Y,y,X)\n",
    "    W=W-alpha*dW"
   ]
  },
  {
   "cell_type": "code",
   "execution_count": 155,
   "metadata": {},
   "outputs": [
    {
     "data": {
      "text/plain": [
       "[<matplotlib.lines.Line2D at 0x2b396dcfbe0>]"
      ]
     },
     "execution_count": 155,
     "metadata": {},
     "output_type": "execute_result"
    },
    {
     "data": {
      "image/png": "[encoded data removed]",
      "text/plain": [
       "<Figure size 432x288 with 1 Axes>"
      ]
     },
     "metadata": {
      "needs_background": "light"
     },
     "output_type": "display_data"
    }
   ],
   "source": [
    "plt.plot(Cost)"
   ]
  },
  {
   "cell_type": "code",
   "execution_count": 156,
   "metadata": {},
   "outputs": [
    {
     "data": {
      "text/plain": [
       "array([[ 14.0225    ],\n",
       "       [ -0.49208592],\n",
       "       [337.32841652],\n",
       "       [ 41.55724946]])"
      ]
     },
     "execution_count": 156,
     "metadata": {},
     "output_type": "execute_result"
    }
   ],
   "source": [
    "W"
   ]
  },
  {
   "cell_type": "code",
   "execution_count": 157,
   "metadata": {},
   "outputs": [],
   "source": [
    "a=X.T@X\n",
    "b=np.linalg.inv(a)@X.T\n",
    "ww=b@Y"
   ]
  },
  {
   "cell_type": "code",
   "execution_count": 158,
   "metadata": {},
   "outputs": [
    {
     "data": {
      "text/plain": [
       "array([[ 14.0225    ],\n",
       "       [ -0.49209159],\n",
       "       [337.32890853],\n",
       "       [ 41.55724606]])"
      ]
     },
     "execution_count": 158,
     "metadata": {},
     "output_type": "execute_result"
    }
   ],
   "source": [
    "ww"
   ]
  },
  {
   "cell_type": "code",
   "execution_count": 159,
   "metadata": {},
   "outputs": [
    {
     "data": {
      "text/plain": [
       "const    9.153929e-184\n",
       "x1        8.599151e-01\n",
       "x2        1.509960e-81\n",
       "x3        1.505339e-54\n",
       "Name: P>|t|, dtype: float64"
      ]
     },
     "execution_count": 159,
     "metadata": {},
     "output_type": "execute_result"
    }
   ],
   "source": [
    "mod = sm.OLS(Y,X)\n",
    "fii = mod.fit()\n",
    "p_values = fii.summary2().tables[1]['P>|t|']\n",
    "p_values"
   ]
  },
  {
   "cell_type": "code",
   "execution_count": 167,
   "metadata": {},
   "outputs": [
    {
     "name": "stdout",
     "output_type": "stream",
     "text": [
      "0.008363786371970916 is the error of coefficient 14.0225\n",
      "[ 14.005772427256058 , 14.039227572743943 ] is 95% confidence interval \n",
      "\n",
      "4.565802816965274 is the error of coefficient -0.4920859185534593\n",
      "[ -9.623691552484006 , 8.639519715377089 ] is 95% confidence interval \n",
      "\n",
      "62.24452339484275 is the error of coefficient 337.3284165234077\n",
      "[ 212.8393697337222 , 461.81746331309324 ] is 95% confidence interval \n",
      "\n",
      "2.1214526976932286 is the error of coefficient 41.55724945885319\n",
      "[ 37.314344063466734 , 45.80015485423965 ] is 95% confidence interval \n",
      "\n"
     ]
    }
   ],
   "source": [
    "si=sigma(X,W,Y)\n",
    "E=cov_mat(X,si)\n",
    "for i in range(E.shape[0]):\n",
    "    print(E[i,i], 'is the error of coefficient', W[i][0])\n",
    "    print('[', W[i][0]-2*E[i,i],',', W[i][0]+2*E[i,i], ']','is 95% confidence interval','\\n')"
   ]
  },
  {
   "cell_type": "markdown",
   "metadata": {},
   "source": [
    "Approximately a 95% chance that the interval $[W − 2SE(W), W + 2SE(W)]$"
   ]
  },
  {
   "cell_type": "markdown",
   "metadata": {},
   "source": [
    "The p-value for the newspaper now is 0.8 which is too large"
   ]
  },
  {
   "cell_type": "markdown",
   "metadata": {},
   "source": [
    "Confidence intervals tell you how well you have determined a parameter of interest, such as a mean or regression coefficient. For example Assume that the data are randomly sampled from a Gaussian distribution and you are interested in determining the mean. If you sample many times, and calculate a confidence interval of the mean from each sample, you'd expect 95% of those intervals to include the true value of the population mean. \n",
    "\n",
    "Prediction intervals tell you where you can expect to see the next data point sampled"
   ]
  },
  {
   "cell_type": "markdown",
   "metadata": {},
   "source": [
    "###  What are the assumptions made in the linear regression model with respect to the errors?"
   ]
  },
  {
   "cell_type": "markdown",
   "metadata": {},
   "source": [
    "1-Assumes a linear relationship between predictors and targets.\n",
    "\n",
    "2-Assumes error follows a normal distribution.\n"
   ]
  },
  {
   "cell_type": "markdown",
   "metadata": {},
   "source": [
    "### Ideally, how should the residual plot look like?\n",
    "\n",
    "It should appear as normally distributed"
   ]
  },
  {
   "cell_type": "code",
   "execution_count": 206,
   "metadata": {},
   "outputs": [],
   "source": [
    "res=Y-Reg(X,W)"
   ]
  },
  {
   "cell_type": "code",
   "execution_count": 216,
   "metadata": {},
   "outputs": [
    {
     "data": {
      "text/plain": [
       "<matplotlib.collections.PathCollection at 0x2b39c85b860>"
      ]
     },
     "execution_count": 216,
     "metadata": {},
     "output_type": "execute_result"
    },
    {
     "data": {
      "image/png": "[encoded data removed]",
      "text/plain": [
       "<Figure size 432x288 with 1 Axes>"
      ]
     },
     "metadata": {
      "needs_background": "light"
     },
     "output_type": "display_data"
    }
   ],
   "source": [
    "plt.scatter(X[:,1],res)"
   ]
  },
  {
   "cell_type": "markdown",
   "metadata": {},
   "source": [
    "### Obtain the Q-Q plot and the residual plots for the above linear regression models"
   ]
  },
  {
   "cell_type": "code",
   "execution_count": 215,
   "metadata": {},
   "outputs": [
    {
     "data": {
      "image/png": "[encoded data removed]",
      "text/plain": [
       "<Figure size 432x288 with 1 Axes>"
      ]
     },
     "metadata": {
      "needs_background": "light"
     },
     "output_type": "display_data"
    }
   ],
   "source": [
    "import scipy.stats as stats\n",
    "A=stats.probplot(res[:,0], dist=\"norm\", plot=plt)"
   ]
  },
  {
   "cell_type": "code",
   "execution_count": 339,
   "metadata": {},
   "outputs": [
    {
     "name": "stderr",
     "output_type": "stream",
     "text": [
      "C:\\Users\\acer\\Anaconda3\\lib\\site-packages\\ipykernel_launcher.py:2: FutureWarning: Method .as_matrix will be removed in a future version. Use .values instead.\n",
      "  \n",
      "C:\\Users\\acer\\Anaconda3\\lib\\site-packages\\ipykernel_launcher.py:3: FutureWarning: Method .as_matrix will be removed in a future version. Use .values instead.\n",
      "  This is separate from the ipykernel package so we can avoid doing imports until\n"
     ]
    },
    {
     "data": {
      "text/plain": [
       "[<matplotlib.lines.Line2D at 0x156b5b6c390>]"
      ]
     },
     "execution_count": 339,
     "metadata": {},
     "output_type": "execute_result"
    },
    {
     "data": {
      "image/png": "[encoded data removed]",
      "text/plain": [
       "<Figure size 432x288 with 1 Axes>"
      ]
     },
     "metadata": {
      "needs_background": "light"
     },
     "output_type": "display_data"
    }
   ],
   "source": [
    "media='TV'\n",
    "X=data[['Intercept','TV']].as_matrix()\n",
    "Y=Data[['Sales']].as_matrix()\n",
    "W=np.random.rand(X.shape[1],1)\n",
    "max_iteration=500000\n",
    "lis=np.arange(0, max_iteration,50000)\n",
    "alpha=0.001\n",
    "Cost=[]\n",
    "for i in range(max_iteration):\n",
    "    y=Reg(W,X)\n",
    "    Cost.append(Loss(Y,y))\n",
    "    dW=Der(Y,y,X)\n",
    "    W=W-alpha*dW\n",
    "    #if i in lis:\n",
    "        #plt.scatter(data[[media]].as_matrix(),Y)\n",
    "        #plt.plot(data[[media]].as_matrix(),y, color='red')\n",
    "        #plt.pause(0.01)\n",
    "        #plt.close()\n",
    "        \n",
    "        \n",
    "\n",
    "\n",
    "        \n",
    "plt.plot(Cost)    "
   ]
  },
  {
   "cell_type": "code",
   "execution_count": 346,
   "metadata": {},
   "outputs": [
    {
     "data": {
      "text/plain": [
       "array([[ 14.0225    ],\n",
       "       [350.38971416]])"
      ]
     },
     "execution_count": 346,
     "metadata": {},
     "output_type": "execute_result"
    }
   ],
   "source": [
    "Cost[-1]\n",
    "W"
   ]
  },
  {
   "cell_type": "code",
   "execution_count": 368,
   "metadata": {},
   "outputs": [
    {
     "data": {
      "text/plain": [
       "0.8972106381777486"
      ]
     },
     "execution_count": 368,
     "metadata": {},
     "output_type": "execute_result"
    }
   ],
   "source": [
    "SSres=Loss(Y,y)\n",
    "SStot=Loss(Y,Y_mean)\n",
    "R2(SSres,SStot)"
   ]
  },
  {
   "cell_type": "code",
   "execution_count": 369,
   "metadata": {},
   "outputs": [],
   "source": [
    "from sklearn.linear_model import LinearRegression"
   ]
  },
  {
   "cell_type": "code",
   "execution_count": 370,
   "metadata": {},
   "outputs": [
    {
     "data": {
      "text/plain": [
       "LinearRegression(copy_X=True, fit_intercept=True, n_jobs=None,\n",
       "         normalize=False)"
      ]
     },
     "execution_count": 370,
     "metadata": {},
     "output_type": "execute_result"
    }
   ],
   "source": [
    "model=LinearRegression(normalize=False)\n",
    "model.fit(X,Y)"
   ]
  },
  {
   "cell_type": "code",
   "execution_count": 371,
   "metadata": {},
   "outputs": [
    {
     "data": {
      "text/plain": [
       "0.8972106381789521"
      ]
     },
     "execution_count": 371,
     "metadata": {},
     "output_type": "execute_result"
    }
   ],
   "source": [
    "model.score(X,Y)"
   ]
  },
  {
   "cell_type": "code",
   "execution_count": 372,
   "metadata": {},
   "outputs": [],
   "source": [
    "re=(Y-y)\n"
   ]
  },
  {
   "cell_type": "code",
   "execution_count": 373,
   "metadata": {},
   "outputs": [
    {
     "data": {
      "text/plain": [
       "(array([ 1.,  0.,  0.,  0.,  0.,  0.,  0.,  0.,  0.,  0.,  0.,  0.,  0.,\n",
       "         0.,  0.,  0.,  0.,  0.,  0.,  0.,  0.,  0.,  0.,  0.,  0.,  0.,\n",
       "         0.,  0.,  0.,  0.,  1.,  0.,  0.,  0.,  0.,  0.,  0.,  0.,  0.,\n",
       "         2.,  0.,  1.,  0.,  0.,  1.,  1.,  0.,  0.,  1.,  3.,  1.,  3.,\n",
       "         2.,  0.,  0.,  3.,  3.,  3.,  3.,  1.,  2.,  1.,  1.,  3.,  2.,\n",
       "         3.,  4.,  3.,  4.,  1.,  0.,  3.,  4.,  7.,  6.,  9.,  7., 13.,\n",
       "         5.,  7.,  8.,  3.,  5.,  4.,  9.,  7.,  6.,  6.,  7.,  7.,  4.,\n",
       "         2.,  5.,  1.,  5.,  1.,  3.,  0.,  0.,  2.]),\n",
       " array([-8.82769687, -8.71112772, -8.59455857, -8.47798941, -8.36142026,\n",
       "        -8.24485111, -8.12828195, -8.0117128 , -7.89514365, -7.7785745 ,\n",
       "        -7.66200534, -7.54543619, -7.42886704, -7.31229788, -7.19572873,\n",
       "        -7.07915958, -6.96259043, -6.84602127, -6.72945212, -6.61288297,\n",
       "        -6.49631381, -6.37974466, -6.26317551, -6.14660636, -6.0300372 ,\n",
       "        -5.91346805, -5.7968989 , -5.68032974, -5.56376059, -5.44719144,\n",
       "        -5.33062229, -5.21405313, -5.09748398, -4.98091483, -4.86434567,\n",
       "        -4.74777652, -4.63120737, -4.51463821, -4.39806906, -4.28149991,\n",
       "        -4.16493076, -4.0483616 , -3.93179245, -3.8152233 , -3.69865414,\n",
       "        -3.58208499, -3.46551584, -3.34894669, -3.23237753, -3.11580838,\n",
       "        -2.99923923, -2.88267007, -2.76610092, -2.64953177, -2.53296262,\n",
       "        -2.41639346, -2.29982431, -2.18325516, -2.066686  , -1.95011685,\n",
       "        -1.8335477 , -1.71697855, -1.60040939, -1.48384024, -1.36727109,\n",
       "        -1.25070193, -1.13413278, -1.01756363, -0.90099448, -0.78442532,\n",
       "        -0.66785617, -0.55128702, -0.43471786, -0.31814871, -0.20157956,\n",
       "        -0.08501041,  0.03155875,  0.1481279 ,  0.26469705,  0.38126621,\n",
       "         0.49783536,  0.61440451,  0.73097366,  0.84754282,  0.96411197,\n",
       "         1.08068112,  1.19725028,  1.31381943,  1.43038858,  1.54695773,\n",
       "         1.66352689,  1.78009604,  1.89666519,  2.01323435,  2.1298035 ,\n",
       "         2.24637265,  2.3629418 ,  2.47951096,  2.59608011,  2.71264926,\n",
       "         2.82921842]),\n",
       " <a list of 100 Patch objects>)"
      ]
     },
     "execution_count": 373,
     "metadata": {},
     "output_type": "execute_result"
    },
    {
     "data": {
      "image/png": "[encoded data removed]",
      "text/plain": [
       "<Figure size 432x288 with 1 Axes>"
      ]
     },
     "metadata": {
      "needs_background": "light"
     },
     "output_type": "display_data"
    }
   ],
   "source": [
    "plt.hist(re, bins=100)"
   ]
  },
  {
   "cell_type": "code",
   "execution_count": null,
   "metadata": {},
   "outputs": [],
   "source": []
  }
 ],
 "metadata": {
  "kernelspec": {
   "display_name": "Python 3",
   "language": "python",
   "name": "python3"
  },
  "language_info": {
   "codemirror_mode": {
    "name": "ipython",
    "version": 3
   },
   "file_extension": ".py",
   "mimetype": "text/x-python",
   "name": "python",
   "nbconvert_exporter": "python",
   "pygments_lexer": "ipython3",
   "version": "3.6.8"
  }
 },
 "nbformat": 4,
 "nbformat_minor": 2
}
